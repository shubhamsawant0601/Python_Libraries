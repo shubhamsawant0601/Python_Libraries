{
 "cells": [
  {
   "cell_type": "code",
   "execution_count": 1,
   "id": "7587c5a9",
   "metadata": {},
   "outputs": [
    {
     "name": "stdout",
     "output_type": "stream",
     "text": [
      "Collecting numpy\n",
      "  Downloading numpy-1.21.4-cp310-cp310-win_amd64.whl (14.0 MB)\n",
      "Installing collected packages: numpy\n",
      "Successfully installed numpy-1.21.4\n"
     ]
    },
    {
     "name": "stderr",
     "output_type": "stream",
     "text": [
      "WARNING: You are using pip version 21.2.3; however, version 21.3.1 is available.\n",
      "You should consider upgrading via the 'C:\\Users\\Shubham\\AppData\\Local\\Programs\\Python\\Python310\\python.exe -m pip install --upgrade pip' command.\n"
     ]
    }
   ],
   "source": [
    "!pip install numpy"
   ]
  },
  {
   "cell_type": "code",
   "execution_count": 2,
   "id": "f6240c94",
   "metadata": {},
   "outputs": [
    {
     "name": "stdout",
     "output_type": "stream",
     "text": [
      "Collecting pandas\n",
      "  Downloading pandas-1.3.4-cp310-cp310-win_amd64.whl (10.2 MB)\n",
      "Collecting pytz>=2017.3\n",
      "  Downloading pytz-2021.3-py2.py3-none-any.whl (503 kB)\n",
      "Requirement already satisfied: numpy>=1.21.0 in c:\\users\\shubham\\appdata\\local\\programs\\python\\python310\\lib\\site-packages (from pandas) (1.21.4)\n",
      "Requirement already satisfied: python-dateutil>=2.7.3 in c:\\users\\shubham\\appdata\\local\\programs\\python\\python310\\lib\\site-packages (from pandas) (2.8.2)\n",
      "Requirement already satisfied: six>=1.5 in c:\\users\\shubham\\appdata\\local\\programs\\python\\python310\\lib\\site-packages (from python-dateutil>=2.7.3->pandas) (1.16.0)\n",
      "Installing collected packages: pytz, pandas\n",
      "Successfully installed pandas-1.3.4 pytz-2021.3\n"
     ]
    },
    {
     "name": "stderr",
     "output_type": "stream",
     "text": [
      "WARNING: You are using pip version 21.2.3; however, version 21.3.1 is available.\n",
      "You should consider upgrading via the 'C:\\Users\\Shubham\\AppData\\Local\\Programs\\Python\\Python310\\python.exe -m pip install --upgrade pip' command.\n"
     ]
    }
   ],
   "source": [
    "!pip install pandas"
   ]
  },
  {
   "cell_type": "code",
   "execution_count": 3,
   "id": "e8eb8e77",
   "metadata": {},
   "outputs": [
    {
     "name": "stdout",
     "output_type": "stream",
     "text": [
      "Collecting scipy\n",
      "  Downloading scipy-1.7.3-cp310-cp310-win_amd64.whl (34.3 MB)\n",
      "Requirement already satisfied: numpy<1.23.0,>=1.16.5 in c:\\users\\shubham\\appdata\\local\\programs\\python\\python310\\lib\\site-packages (from scipy) (1.21.4)\n",
      "Installing collected packages: scipy\n",
      "Successfully installed scipy-1.7.3\n"
     ]
    },
    {
     "name": "stderr",
     "output_type": "stream",
     "text": [
      "WARNING: You are using pip version 21.2.3; however, version 21.3.1 is available.\n",
      "You should consider upgrading via the 'C:\\Users\\Shubham\\AppData\\Local\\Programs\\Python\\Python310\\python.exe -m pip install --upgrade pip' command.\n"
     ]
    }
   ],
   "source": [
    "!pip install scipy"
   ]
  },
  {
   "cell_type": "code",
   "execution_count": 4,
   "id": "42243d26",
   "metadata": {},
   "outputs": [
    {
     "name": "stdout",
     "output_type": "stream",
     "text": [
      "Collecting matplotlib\n",
      "  Downloading matplotlib-3.5.0-cp310-cp310-win_amd64.whl (7.2 MB)\n",
      "Collecting pillow>=6.2.0\n",
      "  Downloading Pillow-8.4.0-cp310-cp310-win_amd64.whl (3.2 MB)\n",
      "Collecting kiwisolver>=1.0.1\n",
      "  Downloading kiwisolver-1.3.2-cp310-cp310-win_amd64.whl (52 kB)\n",
      "Requirement already satisfied: pyparsing>=2.2.1 in c:\\users\\shubham\\appdata\\local\\programs\\python\\python310\\lib\\site-packages (from matplotlib) (3.0.6)\n",
      "Collecting setuptools-scm>=4\n",
      "  Downloading setuptools_scm-6.3.2-py3-none-any.whl (33 kB)\n",
      "Requirement already satisfied: numpy>=1.17 in c:\\users\\shubham\\appdata\\local\\programs\\python\\python310\\lib\\site-packages (from matplotlib) (1.21.4)\n",
      "Requirement already satisfied: packaging>=20.0 in c:\\users\\shubham\\appdata\\local\\programs\\python\\python310\\lib\\site-packages (from matplotlib) (21.3)\n",
      "Requirement already satisfied: python-dateutil>=2.7 in c:\\users\\shubham\\appdata\\local\\programs\\python\\python310\\lib\\site-packages (from matplotlib) (2.8.2)\n",
      "Collecting cycler>=0.10\n",
      "  Downloading cycler-0.11.0-py3-none-any.whl (6.4 kB)\n",
      "Collecting fonttools>=4.22.0\n",
      "  Downloading fonttools-4.28.3-py3-none-any.whl (884 kB)\n",
      "Requirement already satisfied: six>=1.5 in c:\\users\\shubham\\appdata\\local\\programs\\python\\python310\\lib\\site-packages (from python-dateutil>=2.7->matplotlib) (1.16.0)\n",
      "Collecting tomli>=1.0.0\n",
      "  Downloading tomli-1.2.2-py3-none-any.whl (12 kB)\n",
      "Requirement already satisfied: setuptools in c:\\users\\shubham\\appdata\\local\\programs\\python\\python310\\lib\\site-packages (from setuptools-scm>=4->matplotlib) (57.4.0)\n",
      "Installing collected packages: tomli, setuptools-scm, pillow, kiwisolver, fonttools, cycler, matplotlib\n",
      "Successfully installed cycler-0.11.0 fonttools-4.28.3 kiwisolver-1.3.2 matplotlib-3.5.0 pillow-8.4.0 setuptools-scm-6.3.2 tomli-1.2.2\n"
     ]
    },
    {
     "name": "stderr",
     "output_type": "stream",
     "text": [
      "WARNING: You are using pip version 21.2.3; however, version 21.3.1 is available.\n",
      "You should consider upgrading via the 'C:\\Users\\Shubham\\AppData\\Local\\Programs\\Python\\Python310\\python.exe -m pip install --upgrade pip' command.\n"
     ]
    }
   ],
   "source": [
    "!pip install matplotlib"
   ]
  },
  {
   "cell_type": "code",
   "execution_count": 5,
   "id": "38014544",
   "metadata": {},
   "outputs": [
    {
     "name": "stdout",
     "output_type": "stream",
     "text": [
      "Collecting seaborn\n",
      "  Downloading seaborn-0.11.2-py3-none-any.whl (292 kB)\n",
      "Requirement already satisfied: scipy>=1.0 in c:\\users\\shubham\\appdata\\local\\programs\\python\\python310\\lib\\site-packages (from seaborn) (1.7.3)\n",
      "Requirement already satisfied: numpy>=1.15 in c:\\users\\shubham\\appdata\\local\\programs\\python\\python310\\lib\\site-packages (from seaborn) (1.21.4)\n",
      "Requirement already satisfied: matplotlib>=2.2 in c:\\users\\shubham\\appdata\\local\\programs\\python\\python310\\lib\\site-packages (from seaborn) (3.5.0)\n",
      "Requirement already satisfied: pandas>=0.23 in c:\\users\\shubham\\appdata\\local\\programs\\python\\python310\\lib\\site-packages (from seaborn) (1.3.4)\n",
      "Requirement already satisfied: setuptools-scm>=4 in c:\\users\\shubham\\appdata\\local\\programs\\python\\python310\\lib\\site-packages (from matplotlib>=2.2->seaborn) (6.3.2)\n",
      "Requirement already satisfied: kiwisolver>=1.0.1 in c:\\users\\shubham\\appdata\\local\\programs\\python\\python310\\lib\\site-packages (from matplotlib>=2.2->seaborn) (1.3.2)\n",
      "Requirement already satisfied: pyparsing>=2.2.1 in c:\\users\\shubham\\appdata\\local\\programs\\python\\python310\\lib\\site-packages (from matplotlib>=2.2->seaborn) (3.0.6)\n",
      "Requirement already satisfied: python-dateutil>=2.7 in c:\\users\\shubham\\appdata\\local\\programs\\python\\python310\\lib\\site-packages (from matplotlib>=2.2->seaborn) (2.8.2)\n",
      "Requirement already satisfied: cycler>=0.10 in c:\\users\\shubham\\appdata\\local\\programs\\python\\python310\\lib\\site-packages (from matplotlib>=2.2->seaborn) (0.11.0)\n",
      "Requirement already satisfied: pillow>=6.2.0 in c:\\users\\shubham\\appdata\\local\\programs\\python\\python310\\lib\\site-packages (from matplotlib>=2.2->seaborn) (8.4.0)\n",
      "Requirement already satisfied: fonttools>=4.22.0 in c:\\users\\shubham\\appdata\\local\\programs\\python\\python310\\lib\\site-packages (from matplotlib>=2.2->seaborn) (4.28.3)\n",
      "Requirement already satisfied: packaging>=20.0 in c:\\users\\shubham\\appdata\\local\\programs\\python\\python310\\lib\\site-packages (from matplotlib>=2.2->seaborn) (21.3)\n",
      "Requirement already satisfied: pytz>=2017.3 in c:\\users\\shubham\\appdata\\local\\programs\\python\\python310\\lib\\site-packages (from pandas>=0.23->seaborn) (2021.3)\n",
      "Requirement already satisfied: six>=1.5 in c:\\users\\shubham\\appdata\\local\\programs\\python\\python310\\lib\\site-packages (from python-dateutil>=2.7->matplotlib>=2.2->seaborn) (1.16.0)\n",
      "Requirement already satisfied: setuptools in c:\\users\\shubham\\appdata\\local\\programs\\python\\python310\\lib\\site-packages (from setuptools-scm>=4->matplotlib>=2.2->seaborn) (57.4.0)\n",
      "Requirement already satisfied: tomli>=1.0.0 in c:\\users\\shubham\\appdata\\local\\programs\\python\\python310\\lib\\site-packages (from setuptools-scm>=4->matplotlib>=2.2->seaborn) (1.2.2)\n",
      "Installing collected packages: seaborn\n",
      "Successfully installed seaborn-0.11.2\n"
     ]
    },
    {
     "name": "stderr",
     "output_type": "stream",
     "text": [
      "WARNING: You are using pip version 21.2.3; however, version 21.3.1 is available.\n",
      "You should consider upgrading via the 'C:\\Users\\Shubham\\AppData\\Local\\Programs\\Python\\Python310\\python.exe -m pip install --upgrade pip' command.\n"
     ]
    }
   ],
   "source": [
    "!pip install seaborn"
   ]
  },
  {
   "cell_type": "code",
   "execution_count": 6,
   "id": "62a17c0e",
   "metadata": {},
   "outputs": [
    {
     "name": "stdout",
     "output_type": "stream",
     "text": [
      "Collecting scikit-learn\n",
      "  Downloading scikit-learn-1.0.1.tar.gz (6.6 MB)\n",
      "  Installing build dependencies: started\n",
      "  Installing build dependencies: still running...\n",
      "  Installing build dependencies: finished with status 'done'\n",
      "  Getting requirements to build wheel: started\n",
      "  Getting requirements to build wheel: finished with status 'done'\n",
      "    Preparing wheel metadata: started\n",
      "    Preparing wheel metadata: finished with status 'error'\n",
      "  Downloading scikit-learn-1.0.tar.gz (7.8 MB)\n",
      "  Installing build dependencies: started\n",
      "  Installing build dependencies: still running...\n",
      "  Installing build dependencies: finished with status 'done'\n",
      "  Getting requirements to build wheel: started\n",
      "  Getting requirements to build wheel: finished with status 'done'\n",
      "    Preparing wheel metadata: started\n",
      "    Preparing wheel metadata: finished with status 'error'\n",
      "  Downloading scikit-learn-0.24.2.tar.gz (7.5 MB)\n",
      "  Installing build dependencies: started\n",
      "  Installing build dependencies: still running...\n",
      "  Installing build dependencies: finished with status 'done'\n",
      "  Getting requirements to build wheel: started\n",
      "  Getting requirements to build wheel: finished with status 'done'\n",
      "    Preparing wheel metadata: started\n",
      "    Preparing wheel metadata: finished with status 'error'\n",
      "  Downloading scikit-learn-0.24.1.tar.gz (7.4 MB)\n",
      "  Installing build dependencies: started\n",
      "  Installing build dependencies: still running...\n",
      "  Installing build dependencies: finished with status 'done'\n",
      "  Getting requirements to build wheel: started\n",
      "  Getting requirements to build wheel: finished with status 'done'\n",
      "    Preparing wheel metadata: started\n",
      "    Preparing wheel metadata: finished with status 'done'\n",
      "Requirement already satisfied: numpy>=1.13.3 in c:\\users\\shubham\\appdata\\local\\programs\\python\\python310\\lib\\site-packages (from scikit-learn) (1.21.4)\n",
      "Collecting threadpoolctl>=2.0.0\n",
      "  Downloading threadpoolctl-3.0.0-py3-none-any.whl (14 kB)\n",
      "Collecting joblib>=0.11\n",
      "  Downloading joblib-1.1.0-py2.py3-none-any.whl (306 kB)\n",
      "Requirement already satisfied: scipy>=0.19.1 in c:\\users\\shubham\\appdata\\local\\programs\\python\\python310\\lib\\site-packages (from scikit-learn) (1.7.3)\n",
      "Building wheels for collected packages: scikit-learn\n",
      "  Building wheel for scikit-learn (PEP 517): started\n",
      "  Building wheel for scikit-learn (PEP 517): finished with status 'error'\n",
      "Failed to build scikit-learn\n"
     ]
    },
    {
     "name": "stderr",
     "output_type": "stream",
     "text": [
      "    ERROR: Command errored out with exit status 1:\n",
      "     command: 'C:\\Users\\Shubham\\AppData\\Local\\Programs\\Python\\Python310\\python.exe' 'C:\\Users\\Shubham\\AppData\\Local\\Programs\\Python\\Python310\\lib\\site-packages\\pip\\_vendor\\pep517\\in_process\\_in_process.py' prepare_metadata_for_build_wheel 'C:\\Users\\Shubham\\AppData\\Local\\Temp\\tmpbryyebq0'\n",
      "         cwd: C:\\Users\\Shubham\\AppData\\Local\\Temp\\pip-install-gx1udx2j\\scikit-learn_8834e41517a54262bda8003ca1e0c315\n",
      "    Complete output (46 lines):\n",
      "    Partial import of sklearn during the build process.\n",
      "    No module named 'numpy.distutils._msvccompiler' in numpy.distutils; trying from distutils\n",
      "    Traceback (most recent call last):\n",
      "      File \"C:\\Users\\Shubham\\AppData\\Local\\Programs\\Python\\Python310\\lib\\site-packages\\pip\\_vendor\\pep517\\in_process\\_in_process.py\", line 349, in <module>\n",
      "        main()\n",
      "      File \"C:\\Users\\Shubham\\AppData\\Local\\Programs\\Python\\Python310\\lib\\site-packages\\pip\\_vendor\\pep517\\in_process\\_in_process.py\", line 331, in main\n",
      "        json_out['return_val'] = hook(**hook_input['kwargs'])\n",
      "      File \"C:\\Users\\Shubham\\AppData\\Local\\Programs\\Python\\Python310\\lib\\site-packages\\pip\\_vendor\\pep517\\in_process\\_in_process.py\", line 151, in prepare_metadata_for_build_wheel\n",
      "        return hook(metadata_directory, config_settings)\n",
      "      File \"C:\\Users\\Shubham\\AppData\\Local\\Temp\\pip-build-env-ox7dhm00\\overlay\\Lib\\site-packages\\setuptools\\build_meta.py\", line 174, in prepare_metadata_for_build_wheel\n",
      "        self.run_setup()\n",
      "      File \"C:\\Users\\Shubham\\AppData\\Local\\Temp\\pip-build-env-ox7dhm00\\overlay\\Lib\\site-packages\\setuptools\\build_meta.py\", line 267, in run_setup\n",
      "        super(_BuildMetaLegacyBackend,\n",
      "      File \"C:\\Users\\Shubham\\AppData\\Local\\Temp\\pip-build-env-ox7dhm00\\overlay\\Lib\\site-packages\\setuptools\\build_meta.py\", line 158, in run_setup\n",
      "        exec(compile(code, __file__, 'exec'), locals())\n",
      "      File \"setup.py\", line 319, in <module>\n",
      "        setup_package()\n",
      "      File \"setup.py\", line 315, in setup_package\n",
      "        setup(**metadata)\n",
      "      File \"C:\\Users\\Shubham\\AppData\\Local\\Temp\\pip-build-env-ox7dhm00\\overlay\\Lib\\site-packages\\numpy\\distutils\\core.py\", line 135, in setup\n",
      "        config = configuration()\n",
      "      File \"setup.py\", line 201, in configuration\n",
      "        config.add_subpackage(\"sklearn\")\n",
      "      File \"C:\\Users\\Shubham\\AppData\\Local\\Temp\\pip-build-env-ox7dhm00\\overlay\\Lib\\site-packages\\numpy\\distutils\\misc_util.py\", line 1016, in add_subpackage\n",
      "        config_list = self.get_subpackage(subpackage_name, subpackage_path,\n",
      "      File \"C:\\Users\\Shubham\\AppData\\Local\\Temp\\pip-build-env-ox7dhm00\\overlay\\Lib\\site-packages\\numpy\\distutils\\misc_util.py\", line 982, in get_subpackage\n",
      "        config = self._get_configuration_from_setup_py(\n",
      "      File \"C:\\Users\\Shubham\\AppData\\Local\\Temp\\pip-build-env-ox7dhm00\\overlay\\Lib\\site-packages\\numpy\\distutils\\misc_util.py\", line 924, in _get_configuration_from_setup_py\n",
      "        config = setup_module.configuration(*args)\n",
      "      File \"sklearn\\setup.py\", line 85, in configuration\n",
      "        cythonize_extensions(top_path, config)\n",
      "      File \"C:\\Users\\Shubham\\AppData\\Local\\Temp\\pip-install-gx1udx2j\\scikit-learn_8834e41517a54262bda8003ca1e0c315\\sklearn\\_build_utils\\__init__.py\", line 47, in cythonize_extensions\n",
      "        basic_check_build()\n",
      "      File \"C:\\Users\\Shubham\\AppData\\Local\\Temp\\pip-install-gx1udx2j\\scikit-learn_8834e41517a54262bda8003ca1e0c315\\sklearn\\_build_utils\\pre_build_helpers.py\", line 113, in basic_check_build\n",
      "        compile_test_program(code)\n",
      "      File \"C:\\Users\\Shubham\\AppData\\Local\\Temp\\pip-install-gx1udx2j\\scikit-learn_8834e41517a54262bda8003ca1e0c315\\sklearn\\_build_utils\\pre_build_helpers.py\", line 70, in compile_test_program\n",
      "        ccompiler.compile(\n",
      "      File \"C:\\Users\\Shubham\\AppData\\Local\\Programs\\Python\\Python310\\lib\\distutils\\_msvccompiler.py\", line 323, in compile\n",
      "        self.initialize()\n",
      "      File \"C:\\Users\\Shubham\\AppData\\Local\\Programs\\Python\\Python310\\lib\\distutils\\_msvccompiler.py\", line 220, in initialize\n",
      "        vc_env = _get_vc_env(plat_spec)\n",
      "      File \"C:\\Users\\Shubham\\AppData\\Local\\Temp\\pip-build-env-ox7dhm00\\overlay\\Lib\\site-packages\\setuptools\\msvc.py\", line 316, in msvc14_get_vc_env\n",
      "        return _msvc14_get_vc_env(plat_spec)\n",
      "      File \"C:\\Users\\Shubham\\AppData\\Local\\Temp\\pip-build-env-ox7dhm00\\overlay\\Lib\\site-packages\\setuptools\\msvc.py\", line 270, in _msvc14_get_vc_env\n",
      "        raise distutils.errors.DistutilsPlatformError(\n",
      "    distutils.errors.DistutilsPlatformError: Microsoft Visual C++ 14.0 or greater is required. Get it with \"Microsoft C++ Build Tools\": https://visualstudio.microsoft.com/visual-cpp-build-tools/\n",
      "    ----------------------------------------\n",
      "WARNING: Discarding https://files.pythonhosted.org/packages/62/7c/596ff7b32f655f379d3abdfa82607e5cb3b70f46baad4604706511cfeb85/scikit-learn-1.0.1.tar.gz#sha256=ac2ca9dbb754d61cfe1c83ba8483498ef951d29b93ec09d6f002847f210a99da (from https://pypi.org/simple/scikit-learn/) (requires-python:>=3.7). Command errored out with exit status 1: 'C:\\Users\\Shubham\\AppData\\Local\\Programs\\Python\\Python310\\python.exe' 'C:\\Users\\Shubham\\AppData\\Local\\Programs\\Python\\Python310\\lib\\site-packages\\pip\\_vendor\\pep517\\in_process\\_in_process.py' prepare_metadata_for_build_wheel 'C:\\Users\\Shubham\\AppData\\Local\\Temp\\tmpbryyebq0' Check the logs for full command output.\n",
      "    ERROR: Command errored out with exit status 1:\n",
      "     command: 'C:\\Users\\Shubham\\AppData\\Local\\Programs\\Python\\Python310\\python.exe' 'C:\\Users\\Shubham\\AppData\\Local\\Programs\\Python\\Python310\\lib\\site-packages\\pip\\_vendor\\pep517\\in_process\\_in_process.py' prepare_metadata_for_build_wheel 'C:\\Users\\Shubham\\AppData\\Local\\Temp\\tmp7g38_etk'\n",
      "         cwd: C:\\Users\\Shubham\\AppData\\Local\\Temp\\pip-install-gx1udx2j\\scikit-learn_eb91e9867d7b438a9ae931d95fef34ce\n",
      "    Complete output (46 lines):\n",
      "    Partial import of sklearn during the build process.\n",
      "    No module named 'numpy.distutils._msvccompiler' in numpy.distutils; trying from distutils\n",
      "    Traceback (most recent call last):\n",
      "      File \"C:\\Users\\Shubham\\AppData\\Local\\Programs\\Python\\Python310\\lib\\site-packages\\pip\\_vendor\\pep517\\in_process\\_in_process.py\", line 349, in <module>\n",
      "        main()\n",
      "      File \"C:\\Users\\Shubham\\AppData\\Local\\Programs\\Python\\Python310\\lib\\site-packages\\pip\\_vendor\\pep517\\in_process\\_in_process.py\", line 331, in main\n",
      "        json_out['return_val'] = hook(**hook_input['kwargs'])\n",
      "      File \"C:\\Users\\Shubham\\AppData\\Local\\Programs\\Python\\Python310\\lib\\site-packages\\pip\\_vendor\\pep517\\in_process\\_in_process.py\", line 151, in prepare_metadata_for_build_wheel\n",
      "        return hook(metadata_directory, config_settings)\n",
      "      File \"C:\\Users\\Shubham\\AppData\\Local\\Temp\\pip-build-env-s8hf26g7\\overlay\\Lib\\site-packages\\setuptools\\build_meta.py\", line 174, in prepare_metadata_for_build_wheel\n",
      "        self.run_setup()\n",
      "      File \"C:\\Users\\Shubham\\AppData\\Local\\Temp\\pip-build-env-s8hf26g7\\overlay\\Lib\\site-packages\\setuptools\\build_meta.py\", line 267, in run_setup\n",
      "        super(_BuildMetaLegacyBackend,\n",
      "      File \"C:\\Users\\Shubham\\AppData\\Local\\Temp\\pip-build-env-s8hf26g7\\overlay\\Lib\\site-packages\\setuptools\\build_meta.py\", line 158, in run_setup\n",
      "        exec(compile(code, __file__, 'exec'), locals())\n",
      "      File \"setup.py\", line 319, in <module>\n",
      "        setup_package()\n",
      "      File \"setup.py\", line 315, in setup_package\n",
      "        setup(**metadata)\n",
      "      File \"C:\\Users\\Shubham\\AppData\\Local\\Temp\\pip-build-env-s8hf26g7\\overlay\\Lib\\site-packages\\numpy\\distutils\\core.py\", line 135, in setup\n",
      "        config = configuration()\n",
      "      File \"setup.py\", line 201, in configuration\n",
      "        config.add_subpackage(\"sklearn\")\n",
      "      File \"C:\\Users\\Shubham\\AppData\\Local\\Temp\\pip-build-env-s8hf26g7\\overlay\\Lib\\site-packages\\numpy\\distutils\\misc_util.py\", line 1016, in add_subpackage\n",
      "        config_list = self.get_subpackage(subpackage_name, subpackage_path,\n",
      "      File \"C:\\Users\\Shubham\\AppData\\Local\\Temp\\pip-build-env-s8hf26g7\\overlay\\Lib\\site-packages\\numpy\\distutils\\misc_util.py\", line 982, in get_subpackage\n",
      "        config = self._get_configuration_from_setup_py(\n",
      "      File \"C:\\Users\\Shubham\\AppData\\Local\\Temp\\pip-build-env-s8hf26g7\\overlay\\Lib\\site-packages\\numpy\\distutils\\misc_util.py\", line 924, in _get_configuration_from_setup_py\n",
      "        config = setup_module.configuration(*args)\n",
      "      File \"sklearn\\setup.py\", line 85, in configuration\n",
      "        cythonize_extensions(top_path, config)\n",
      "      File \"C:\\Users\\Shubham\\AppData\\Local\\Temp\\pip-install-gx1udx2j\\scikit-learn_eb91e9867d7b438a9ae931d95fef34ce\\sklearn\\_build_utils\\__init__.py\", line 47, in cythonize_extensions\n",
      "        basic_check_build()\n",
      "      File \"C:\\Users\\Shubham\\AppData\\Local\\Temp\\pip-install-gx1udx2j\\scikit-learn_eb91e9867d7b438a9ae931d95fef34ce\\sklearn\\_build_utils\\pre_build_helpers.py\", line 113, in basic_check_build\n",
      "        compile_test_program(code)\n",
      "      File \"C:\\Users\\Shubham\\AppData\\Local\\Temp\\pip-install-gx1udx2j\\scikit-learn_eb91e9867d7b438a9ae931d95fef34ce\\sklearn\\_build_utils\\pre_build_helpers.py\", line 70, in compile_test_program\n",
      "        ccompiler.compile(\n",
      "      File \"C:\\Users\\Shubham\\AppData\\Local\\Programs\\Python\\Python310\\lib\\distutils\\_msvccompiler.py\", line 323, in compile\n",
      "        self.initialize()\n",
      "      File \"C:\\Users\\Shubham\\AppData\\Local\\Programs\\Python\\Python310\\lib\\distutils\\_msvccompiler.py\", line 220, in initialize\n",
      "        vc_env = _get_vc_env(plat_spec)\n",
      "      File \"C:\\Users\\Shubham\\AppData\\Local\\Temp\\pip-build-env-s8hf26g7\\overlay\\Lib\\site-packages\\setuptools\\msvc.py\", line 316, in msvc14_get_vc_env\n",
      "        return _msvc14_get_vc_env(plat_spec)\n",
      "      File \"C:\\Users\\Shubham\\AppData\\Local\\Temp\\pip-build-env-s8hf26g7\\overlay\\Lib\\site-packages\\setuptools\\msvc.py\", line 270, in _msvc14_get_vc_env\n",
      "        raise distutils.errors.DistutilsPlatformError(\n",
      "    distutils.errors.DistutilsPlatformError: Microsoft Visual C++ 14.0 or greater is required. Get it with \"Microsoft C++ Build Tools\": https://visualstudio.microsoft.com/visual-cpp-build-tools/\n",
      "    ----------------------------------------\n",
      "WARNING: Discarding https://files.pythonhosted.org/packages/e1/4d/15c3542a17eebf61e48bd71dc55b5f3b5031f1cd0dc4aad1ff9ac9651e49/scikit-learn-1.0.tar.gz#sha256=776800194e757cd212b47cd05907e0eb67a554ad333fe76776060dbb729e3427 (from https://pypi.org/simple/scikit-learn/) (requires-python:>=3.7). Command errored out with exit status 1: 'C:\\Users\\Shubham\\AppData\\Local\\Programs\\Python\\Python310\\python.exe' 'C:\\Users\\Shubham\\AppData\\Local\\Programs\\Python\\Python310\\lib\\site-packages\\pip\\_vendor\\pep517\\in_process\\_in_process.py' prepare_metadata_for_build_wheel 'C:\\Users\\Shubham\\AppData\\Local\\Temp\\tmp7g38_etk' Check the logs for full command output.\n",
      "    ERROR: Command errored out with exit status 1:\n",
      "     command: 'C:\\Users\\Shubham\\AppData\\Local\\Programs\\Python\\Python310\\python.exe' 'C:\\Users\\Shubham\\AppData\\Local\\Programs\\Python\\Python310\\lib\\site-packages\\pip\\_vendor\\pep517\\in_process\\_in_process.py' prepare_metadata_for_build_wheel 'C:\\Users\\Shubham\\AppData\\Local\\Temp\\tmp3i7uzl7b'\n",
      "         cwd: C:\\Users\\Shubham\\AppData\\Local\\Temp\\pip-install-gx1udx2j\\scikit-learn_04ca5fd76c9f40eb96ebaf755da8a088\n",
      "    Complete output (46 lines):\n",
      "    Partial import of sklearn during the build process.\n",
      "    No module named 'numpy.distutils._msvccompiler' in numpy.distutils; trying from distutils\n",
      "    Traceback (most recent call last):\n",
      "      File \"C:\\Users\\Shubham\\AppData\\Local\\Programs\\Python\\Python310\\lib\\site-packages\\pip\\_vendor\\pep517\\in_process\\_in_process.py\", line 349, in <module>\n",
      "        main()\n",
      "      File \"C:\\Users\\Shubham\\AppData\\Local\\Programs\\Python\\Python310\\lib\\site-packages\\pip\\_vendor\\pep517\\in_process\\_in_process.py\", line 331, in main\n",
      "        json_out['return_val'] = hook(**hook_input['kwargs'])\n",
      "      File \"C:\\Users\\Shubham\\AppData\\Local\\Programs\\Python\\Python310\\lib\\site-packages\\pip\\_vendor\\pep517\\in_process\\_in_process.py\", line 151, in prepare_metadata_for_build_wheel\n",
      "        return hook(metadata_directory, config_settings)\n",
      "      File \"C:\\Users\\Shubham\\AppData\\Local\\Temp\\pip-build-env-s2uh9d94\\overlay\\Lib\\site-packages\\setuptools\\build_meta.py\", line 174, in prepare_metadata_for_build_wheel\n",
      "        self.run_setup()\n",
      "      File \"C:\\Users\\Shubham\\AppData\\Local\\Temp\\pip-build-env-s2uh9d94\\overlay\\Lib\\site-packages\\setuptools\\build_meta.py\", line 267, in run_setup\n",
      "        super(_BuildMetaLegacyBackend,\n",
      "      File \"C:\\Users\\Shubham\\AppData\\Local\\Temp\\pip-build-env-s2uh9d94\\overlay\\Lib\\site-packages\\setuptools\\build_meta.py\", line 158, in run_setup\n",
      "        exec(compile(code, __file__, 'exec'), locals())\n",
      "      File \"setup.py\", line 301, in <module>\n",
      "        setup_package()\n",
      "      File \"setup.py\", line 297, in setup_package\n",
      "        setup(**metadata)\n",
      "      File \"C:\\Users\\Shubham\\AppData\\Local\\Temp\\pip-build-env-s2uh9d94\\overlay\\Lib\\site-packages\\numpy\\distutils\\core.py\", line 135, in setup\n",
      "        config = configuration()\n",
      "      File \"setup.py\", line 188, in configuration\n",
      "        config.add_subpackage('sklearn')\n",
      "      File \"C:\\Users\\Shubham\\AppData\\Local\\Temp\\pip-build-env-s2uh9d94\\overlay\\Lib\\site-packages\\numpy\\distutils\\misc_util.py\", line 1016, in add_subpackage\n",
      "        config_list = self.get_subpackage(subpackage_name, subpackage_path,\n",
      "      File \"C:\\Users\\Shubham\\AppData\\Local\\Temp\\pip-build-env-s2uh9d94\\overlay\\Lib\\site-packages\\numpy\\distutils\\misc_util.py\", line 982, in get_subpackage\n",
      "        config = self._get_configuration_from_setup_py(\n",
      "      File \"C:\\Users\\Shubham\\AppData\\Local\\Temp\\pip-build-env-s2uh9d94\\overlay\\Lib\\site-packages\\numpy\\distutils\\misc_util.py\", line 924, in _get_configuration_from_setup_py\n",
      "        config = setup_module.configuration(*args)\n",
      "      File \"sklearn\\setup.py\", line 83, in configuration\n",
      "        cythonize_extensions(top_path, config)\n",
      "      File \"C:\\Users\\Shubham\\AppData\\Local\\Temp\\pip-install-gx1udx2j\\scikit-learn_04ca5fd76c9f40eb96ebaf755da8a088\\sklearn\\_build_utils\\__init__.py\", line 45, in cythonize_extensions\n",
      "        basic_check_build()\n",
      "      File \"C:\\Users\\Shubham\\AppData\\Local\\Temp\\pip-install-gx1udx2j\\scikit-learn_04ca5fd76c9f40eb96ebaf755da8a088\\sklearn\\_build_utils\\pre_build_helpers.py\", line 106, in basic_check_build\n",
      "        compile_test_program(code)\n",
      "      File \"C:\\Users\\Shubham\\AppData\\Local\\Temp\\pip-install-gx1udx2j\\scikit-learn_04ca5fd76c9f40eb96ebaf755da8a088\\sklearn\\_build_utils\\pre_build_helpers.py\", line 66, in compile_test_program\n",
      "        ccompiler.compile(['test_program.c'], output_dir='objects',\n",
      "      File \"C:\\Users\\Shubham\\AppData\\Local\\Programs\\Python\\Python310\\lib\\distutils\\_msvccompiler.py\", line 323, in compile\n",
      "        self.initialize()\n",
      "      File \"C:\\Users\\Shubham\\AppData\\Local\\Programs\\Python\\Python310\\lib\\distutils\\_msvccompiler.py\", line 220, in initialize\n",
      "        vc_env = _get_vc_env(plat_spec)\n",
      "      File \"C:\\Users\\Shubham\\AppData\\Local\\Temp\\pip-build-env-s2uh9d94\\overlay\\Lib\\site-packages\\setuptools\\msvc.py\", line 316, in msvc14_get_vc_env\n",
      "        return _msvc14_get_vc_env(plat_spec)\n",
      "      File \"C:\\Users\\Shubham\\AppData\\Local\\Temp\\pip-build-env-s2uh9d94\\overlay\\Lib\\site-packages\\setuptools\\msvc.py\", line 270, in _msvc14_get_vc_env\n",
      "        raise distutils.errors.DistutilsPlatformError(\n",
      "    distutils.errors.DistutilsPlatformError: Microsoft Visual C++ 14.0 or greater is required. Get it with \"Microsoft C++ Build Tools\": https://visualstudio.microsoft.com/visual-cpp-build-tools/\n"
     ]
    },
    {
     "name": "stderr",
     "output_type": "stream",
     "text": [
      "    ----------------------------------------\n",
      "WARNING: Discarding https://files.pythonhosted.org/packages/05/04/507280f20fafc8bc94b41e0592938c6f4a910d0e066be7c8ff1299628f5d/scikit-learn-0.24.2.tar.gz#sha256=d14701a12417930392cd3898e9646cf5670c190b933625ebe7511b1f7d7b8736 (from https://pypi.org/simple/scikit-learn/) (requires-python:>=3.6). Command errored out with exit status 1: 'C:\\Users\\Shubham\\AppData\\Local\\Programs\\Python\\Python310\\python.exe' 'C:\\Users\\Shubham\\AppData\\Local\\Programs\\Python\\Python310\\lib\\site-packages\\pip\\_vendor\\pep517\\in_process\\_in_process.py' prepare_metadata_for_build_wheel 'C:\\Users\\Shubham\\AppData\\Local\\Temp\\tmp3i7uzl7b' Check the logs for full command output.\n",
      "  ERROR: Command errored out with exit status 1:\n",
      "   command: 'C:\\Users\\Shubham\\AppData\\Local\\Programs\\Python\\Python310\\python.exe' 'C:\\Users\\Shubham\\AppData\\Local\\Programs\\Python\\Python310\\lib\\site-packages\\pip\\_vendor\\pep517\\in_process\\_in_process.py' build_wheel 'C:\\Users\\Shubham\\AppData\\Local\\Temp\\tmps5zfojgp'\n",
      "       cwd: C:\\Users\\Shubham\\AppData\\Local\\Temp\\pip-install-gx1udx2j\\scikit-learn_f7fab8b2895d4562b5452768f9e3ecce\n",
      "  Complete output (48 lines):\n",
      "  Partial import of sklearn during the build process.\n",
      "  No module named 'numpy.distutils._msvccompiler' in numpy.distutils; trying from distutils\n",
      "  Traceback (most recent call last):\n",
      "    File \"C:\\Users\\Shubham\\AppData\\Local\\Programs\\Python\\Python310\\lib\\site-packages\\pip\\_vendor\\pep517\\in_process\\_in_process.py\", line 349, in <module>\n",
      "      main()\n",
      "    File \"C:\\Users\\Shubham\\AppData\\Local\\Programs\\Python\\Python310\\lib\\site-packages\\pip\\_vendor\\pep517\\in_process\\_in_process.py\", line 331, in main\n",
      "      json_out['return_val'] = hook(**hook_input['kwargs'])\n",
      "    File \"C:\\Users\\Shubham\\AppData\\Local\\Programs\\Python\\Python310\\lib\\site-packages\\pip\\_vendor\\pep517\\in_process\\_in_process.py\", line 248, in build_wheel\n",
      "      return _build_backend().build_wheel(wheel_directory, config_settings,\n",
      "    File \"C:\\Users\\Shubham\\AppData\\Local\\Temp\\pip-build-env-9aysb1ff\\overlay\\Lib\\site-packages\\setuptools\\build_meta.py\", line 230, in build_wheel\n",
      "      return self._build_with_temp_dir(['bdist_wheel'], '.whl',\n",
      "    File \"C:\\Users\\Shubham\\AppData\\Local\\Temp\\pip-build-env-9aysb1ff\\overlay\\Lib\\site-packages\\setuptools\\build_meta.py\", line 215, in _build_with_temp_dir\n",
      "      self.run_setup()\n",
      "    File \"C:\\Users\\Shubham\\AppData\\Local\\Temp\\pip-build-env-9aysb1ff\\overlay\\Lib\\site-packages\\setuptools\\build_meta.py\", line 267, in run_setup\n",
      "      super(_BuildMetaLegacyBackend,\n",
      "    File \"C:\\Users\\Shubham\\AppData\\Local\\Temp\\pip-build-env-9aysb1ff\\overlay\\Lib\\site-packages\\setuptools\\build_meta.py\", line 158, in run_setup\n",
      "      exec(compile(code, __file__, 'exec'), locals())\n",
      "    File \"setup.py\", line 306, in <module>\n",
      "      setup_package()\n",
      "    File \"setup.py\", line 302, in setup_package\n",
      "      setup(**metadata)\n",
      "    File \"C:\\Users\\Shubham\\AppData\\Local\\Temp\\pip-build-env-9aysb1ff\\overlay\\Lib\\site-packages\\numpy\\distutils\\core.py\", line 135, in setup\n",
      "      config = configuration()\n",
      "    File \"setup.py\", line 188, in configuration\n",
      "      config.add_subpackage('sklearn')\n",
      "    File \"C:\\Users\\Shubham\\AppData\\Local\\Temp\\pip-build-env-9aysb1ff\\overlay\\Lib\\site-packages\\numpy\\distutils\\misc_util.py\", line 1016, in add_subpackage\n",
      "      config_list = self.get_subpackage(subpackage_name, subpackage_path,\n",
      "    File \"C:\\Users\\Shubham\\AppData\\Local\\Temp\\pip-build-env-9aysb1ff\\overlay\\Lib\\site-packages\\numpy\\distutils\\misc_util.py\", line 982, in get_subpackage\n",
      "      config = self._get_configuration_from_setup_py(\n",
      "    File \"C:\\Users\\Shubham\\AppData\\Local\\Temp\\pip-build-env-9aysb1ff\\overlay\\Lib\\site-packages\\numpy\\distutils\\misc_util.py\", line 924, in _get_configuration_from_setup_py\n",
      "      config = setup_module.configuration(*args)\n",
      "    File \"sklearn\\setup.py\", line 83, in configuration\n",
      "      cythonize_extensions(top_path, config)\n",
      "    File \"C:\\Users\\Shubham\\AppData\\Local\\Temp\\pip-install-gx1udx2j\\scikit-learn_f7fab8b2895d4562b5452768f9e3ecce\\sklearn\\_build_utils\\__init__.py\", line 45, in cythonize_extensions\n",
      "      basic_check_build()\n",
      "    File \"C:\\Users\\Shubham\\AppData\\Local\\Temp\\pip-install-gx1udx2j\\scikit-learn_f7fab8b2895d4562b5452768f9e3ecce\\sklearn\\_build_utils\\pre_build_helpers.py\", line 106, in basic_check_build\n",
      "      compile_test_program(code)\n",
      "    File \"C:\\Users\\Shubham\\AppData\\Local\\Temp\\pip-install-gx1udx2j\\scikit-learn_f7fab8b2895d4562b5452768f9e3ecce\\sklearn\\_build_utils\\pre_build_helpers.py\", line 66, in compile_test_program\n",
      "      ccompiler.compile(['test_program.c'], output_dir='objects',\n",
      "    File \"C:\\Users\\Shubham\\AppData\\Local\\Programs\\Python\\Python310\\lib\\distutils\\_msvccompiler.py\", line 323, in compile\n",
      "      self.initialize()\n",
      "    File \"C:\\Users\\Shubham\\AppData\\Local\\Programs\\Python\\Python310\\lib\\distutils\\_msvccompiler.py\", line 220, in initialize\n",
      "      vc_env = _get_vc_env(plat_spec)\n",
      "    File \"C:\\Users\\Shubham\\AppData\\Local\\Temp\\pip-build-env-9aysb1ff\\overlay\\Lib\\site-packages\\setuptools\\msvc.py\", line 316, in msvc14_get_vc_env\n",
      "      return _msvc14_get_vc_env(plat_spec)\n",
      "    File \"C:\\Users\\Shubham\\AppData\\Local\\Temp\\pip-build-env-9aysb1ff\\overlay\\Lib\\site-packages\\setuptools\\msvc.py\", line 270, in _msvc14_get_vc_env\n",
      "      raise distutils.errors.DistutilsPlatformError(\n",
      "  distutils.errors.DistutilsPlatformError: Microsoft Visual C++ 14.0 or greater is required. Get it with \"Microsoft C++ Build Tools\": https://visualstudio.microsoft.com/visual-cpp-build-tools/\n",
      "  ----------------------------------------\n",
      "  ERROR: Failed building wheel for scikit-learn\n",
      "ERROR: Could not build wheels for scikit-learn which use PEP 517 and cannot be installed directly\n",
      "WARNING: You are using pip version 21.2.3; however, version 21.3.1 is available.\n",
      "You should consider upgrading via the 'C:\\Users\\Shubham\\AppData\\Local\\Programs\\Python\\Python310\\python.exe -m pip install --upgrade pip' command.\n"
     ]
    }
   ],
   "source": [
    "!pip install -U scikit-learn"
   ]
  },
  {
   "cell_type": "code",
   "execution_count": 7,
   "id": "2326feab",
   "metadata": {},
   "outputs": [
    {
     "name": "stdout",
     "output_type": "stream",
     "text": [
      "Collecting xgboost\n",
      "  Downloading xgboost-1.5.1-py3-none-win_amd64.whl (106.6 MB)\n",
      "Requirement already satisfied: numpy in c:\\users\\shubham\\appdata\\local\\programs\\python\\python310\\lib\\site-packages (from xgboost) (1.21.4)\n",
      "Requirement already satisfied: scipy in c:\\users\\shubham\\appdata\\local\\programs\\python\\python310\\lib\\site-packages (from xgboost) (1.7.3)\n",
      "Installing collected packages: xgboost\n",
      "Successfully installed xgboost-1.5.1\n"
     ]
    },
    {
     "name": "stderr",
     "output_type": "stream",
     "text": [
      "WARNING: You are using pip version 21.2.3; however, version 21.3.1 is available.\n",
      "You should consider upgrading via the 'C:\\Users\\Shubham\\AppData\\Local\\Programs\\Python\\Python310\\python.exe -m pip install --upgrade pip' command.\n"
     ]
    }
   ],
   "source": [
    "!pip install xgboost"
   ]
  },
  {
   "cell_type": "code",
   "execution_count": 8,
   "id": "1d9ad47c",
   "metadata": {},
   "outputs": [
    {
     "name": "stderr",
     "output_type": "stream",
     "text": [
      "ERROR: Could not find a version that satisfies the requirement imbalance (from versions: none)\n",
      "ERROR: No matching distribution found for imbalance\n",
      "WARNING: You are using pip version 21.2.3; however, version 21.3.1 is available.\n",
      "You should consider upgrading via the 'C:\\Users\\Shubham\\AppData\\Local\\Programs\\Python\\Python310\\python.exe -m pip install --upgrade pip' command.\n"
     ]
    }
   ],
   "source": [
    "!pip install imbalance"
   ]
  },
  {
   "cell_type": "code",
   "execution_count": 9,
   "id": "a64c0933",
   "metadata": {},
   "outputs": [
    {
     "name": "stdout",
     "output_type": "stream",
     "text": [
      "Collecting django\n",
      "  Downloading Django-3.2.9-py3-none-any.whl (7.9 MB)\n",
      "Collecting sqlparse>=0.2.2\n",
      "  Downloading sqlparse-0.4.2-py3-none-any.whl (42 kB)\n",
      "Collecting asgiref<4,>=3.3.2\n",
      "  Downloading asgiref-3.4.1-py3-none-any.whl (25 kB)\n",
      "Requirement already satisfied: pytz in c:\\users\\shubham\\appdata\\local\\programs\\python\\python310\\lib\\site-packages (from django) (2021.3)\n",
      "Installing collected packages: sqlparse, asgiref, django\n",
      "Successfully installed asgiref-3.4.1 django-3.2.9 sqlparse-0.4.2\n"
     ]
    },
    {
     "name": "stderr",
     "output_type": "stream",
     "text": [
      "WARNING: You are using pip version 21.2.3; however, version 21.3.1 is available.\n",
      "You should consider upgrading via the 'C:\\Users\\Shubham\\AppData\\Local\\Programs\\Python\\Python310\\python.exe -m pip install --upgrade pip' command.\n"
     ]
    }
   ],
   "source": [
    "!pip install django"
   ]
  },
  {
   "cell_type": "code",
   "execution_count": 10,
   "id": "00a3947a",
   "metadata": {},
   "outputs": [
    {
     "name": "stdout",
     "output_type": "stream",
     "text": [
      "Collecting selenium\n",
      "  Downloading selenium-4.1.0-py3-none-any.whl (958 kB)\n",
      "Collecting trio-websocket~=0.9\n",
      "  Downloading trio_websocket-0.9.2-py3-none-any.whl (16 kB)\n",
      "Collecting trio~=0.17\n",
      "  Downloading trio-0.19.0-py3-none-any.whl (356 kB)\n",
      "Collecting urllib3[secure]~=1.26\n",
      "  Downloading urllib3-1.26.7-py2.py3-none-any.whl (138 kB)\n",
      "Requirement already satisfied: cffi>=1.14 in c:\\users\\shubham\\appdata\\local\\programs\\python\\python310\\lib\\site-packages (from trio~=0.17->selenium) (1.15.0)\n",
      "Collecting sniffio\n",
      "  Downloading sniffio-1.2.0-py3-none-any.whl (10 kB)\n",
      "Collecting sortedcontainers\n",
      "  Downloading sortedcontainers-2.4.0-py2.py3-none-any.whl (29 kB)\n",
      "Collecting async-generator>=1.9\n",
      "  Downloading async_generator-1.10-py3-none-any.whl (18 kB)\n",
      "Collecting idna\n",
      "  Downloading idna-3.3-py3-none-any.whl (61 kB)\n",
      "Requirement already satisfied: attrs>=19.2.0 in c:\\users\\shubham\\appdata\\local\\programs\\python\\python310\\lib\\site-packages (from trio~=0.17->selenium) (21.2.0)\n",
      "Collecting outcome\n",
      "  Downloading outcome-1.1.0-py2.py3-none-any.whl (9.7 kB)\n",
      "Requirement already satisfied: pycparser in c:\\users\\shubham\\appdata\\local\\programs\\python\\python310\\lib\\site-packages (from cffi>=1.14->trio~=0.17->selenium) (2.21)\n",
      "Collecting wsproto>=0.14\n",
      "  Downloading wsproto-1.0.0-py3-none-any.whl (24 kB)\n",
      "Collecting pyOpenSSL>=0.14\n",
      "  Downloading pyOpenSSL-21.0.0-py2.py3-none-any.whl (55 kB)\n",
      "Collecting certifi\n",
      "  Downloading certifi-2021.10.8-py2.py3-none-any.whl (149 kB)\n",
      "Collecting cryptography>=1.3.4\n",
      "  Downloading cryptography-36.0.0-cp36-abi3-win_amd64.whl (2.2 MB)\n",
      "Requirement already satisfied: six>=1.5.2 in c:\\users\\shubham\\appdata\\local\\programs\\python\\python310\\lib\\site-packages (from pyOpenSSL>=0.14->urllib3[secure]~=1.26->selenium) (1.16.0)\n",
      "Collecting h11<1,>=0.9.0\n",
      "  Downloading h11-0.12.0-py3-none-any.whl (54 kB)\n",
      "Installing collected packages: sortedcontainers, sniffio, outcome, idna, h11, cryptography, async-generator, wsproto, urllib3, trio, pyOpenSSL, certifi, trio-websocket, selenium\n",
      "Successfully installed async-generator-1.10 certifi-2021.10.8 cryptography-36.0.0 h11-0.12.0 idna-3.3 outcome-1.1.0 pyOpenSSL-21.0.0 selenium-4.1.0 sniffio-1.2.0 sortedcontainers-2.4.0 trio-0.19.0 trio-websocket-0.9.2 urllib3-1.26.7 wsproto-1.0.0\n"
     ]
    },
    {
     "name": "stderr",
     "output_type": "stream",
     "text": [
      "WARNING: You are using pip version 21.2.3; however, version 21.3.1 is available.\n",
      "You should consider upgrading via the 'C:\\Users\\Shubham\\AppData\\Local\\Programs\\Python\\Python310\\python.exe -m pip install --upgrade pip' command.\n"
     ]
    }
   ],
   "source": [
    "!pip install selenium"
   ]
  }
 ],
 "metadata": {
  "kernelspec": {
   "display_name": "Python 3 (ipykernel)",
   "language": "python",
   "name": "python3"
  },
  "language_info": {
   "codemirror_mode": {
    "name": "ipython",
    "version": 3
   },
   "file_extension": ".py",
   "mimetype": "text/x-python",
   "name": "python",
   "nbconvert_exporter": "python",
   "pygments_lexer": "ipython3",
   "version": "3.10.0"
  }
 },
 "nbformat": 4,
 "nbformat_minor": 5
}
